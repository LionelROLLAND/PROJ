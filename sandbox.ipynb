{
 "cells": [
  {
   "cell_type": "markdown",
   "metadata": {},
   "source": [
    "## Sandbox\n",
    "\n",
    "Un  `.ipynb` pour tester des idées :)"
   ]
  },
  {
   "cell_type": "code",
   "execution_count": null,
   "metadata": {},
   "outputs": [],
   "source": [
    "using Pkg\n",
    "Pkg.activate(\".\")\n",
    "Pkg.instantiate()\n",
    "using Graphs\n",
    "using MetaGraphsNext\n",
    "using JuMP\n",
    "using Gurobi\n",
    "\n",
    "ENV[\"GRB_LICENSE_FILE\"] = \"gurobi.lic\"\n",
    "include(joinpath(\"src\", \"utils.jl\"));\n",
    "include(joinpath(\"src\", \"heuristics.jl\"));"
   ]
  },
  {
   "cell_type": "code",
   "execution_count": null,
   "metadata": {},
   "outputs": [],
   "source": [
    "# file = joinpath(\"data\", \"20_USA-road-d.BAY.gr\")\n",
    "file = joinpath(\"data\", \"instances\", \"20_USA-road-d.COL.gr\")\n",
    "infos = open(\n",
    "    readInstance,\n",
    "    file,\n",
    ");"
   ]
  },
  {
   "cell_type": "code",
   "execution_count": null,
   "metadata": {},
   "outputs": [],
   "source": [
    "graph = graphFromData(infos);"
   ]
  },
  {
   "cell_type": "code",
   "execution_count": null,
   "metadata": {},
   "outputs": [],
   "source": [
    "result = heuristicSolve(graph);"
   ]
  }
 ],
 "metadata": {
  "kernelspec": {
   "display_name": "Julia 1.7.2",
   "language": "julia",
   "name": "julia-1.7"
  },
  "language_info": {
   "file_extension": ".jl",
   "mimetype": "application/julia",
   "name": "julia",
   "version": "1.7.2"
  }
 },
 "nbformat": 4,
 "nbformat_minor": 2
}
