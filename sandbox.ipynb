{
 "cells": [
  {
   "cell_type": "markdown",
   "metadata": {},
   "source": [
    "## Sandbox\n",
    "\n",
    "Un  `.ipynb` pour tester des idées :)"
   ]
  },
  {
   "cell_type": "code",
   "execution_count": null,
   "metadata": {},
   "outputs": [],
   "source": [
    "using Pkg\n",
    "Pkg.activate(\".\")\n",
    "Pkg.instantiate()\n",
    "using Graphs\n",
    "using MetaGraphsNext\n",
    "using JuMP\n",
    "using Gurobi\n",
    "\n",
    "ENV[\"GRB_LICENSE_FILE\"] = \"gurobi.lic\"\n",
    "include(joinpath(\"src\", \"utils.jl\"));"
   ]
  },
  {
   "cell_type": "code",
   "execution_count": null,
   "metadata": {},
   "outputs": [],
   "source": [
    "infos = open(\n",
    "    readInstance,\n",
    "    joinpath(\"data\", \"100_USA-road-d.BAY.gr\"),\n",
    ");\n",
    "graph = graphFromData(infos);"
   ]
  },
  {
   "cell_type": "code",
   "execution_count": null,
   "metadata": {},
   "outputs": [],
   "source": [
    "# foreach(((key, value),) -> println(\"$key = $value\"), pairs(infos))"
   ]
  },
  {
   "cell_type": "code",
   "execution_count": null,
   "metadata": {},
   "outputs": [],
   "source": [
    "# foreach(i -> println(graph[i]), labels(graph))"
   ]
  },
  {
   "cell_type": "code",
   "execution_count": null,
   "metadata": {},
   "outputs": [],
   "source": [
    "# foreach(((i, j),) -> println(graph[i, j]), edge_labels(graph))"
   ]
  },
  {
   "cell_type": "code",
   "execution_count": null,
   "metadata": {},
   "outputs": [],
   "source": [
    "function flow_creation(i::Int64)::Int64\n",
    "    return Int64(graph[i].is_s) - Int64(graph[i].is_t)\n",
    "end"
   ]
  },
  {
   "cell_type": "code",
   "execution_count": null,
   "metadata": {},
   "outputs": [],
   "source": [
    "# __________MODELE_MAITRE__________\n",
    "#declaration du modele\n",
    "modele_maitre = Model(Gurobi.Optimizer)\n",
    "modele_maitre = Model(\n",
    "                optimizer_with_attributes(\n",
    "                Gurobi.Optimizer, \"Presolve\" => 0\n",
    "                ))\n",
    "set_silent(modele_maitre)\n",
    "#declaration des variables\n",
    "@variable(modele_maitre, z >= 0)\n",
    "@variable(modele_maitre, a[edge_labels(graph)], Bin)  # vaut 1 ssi arc (i,j) choisi\n",
    "@objective(modele_maitre, Min, z)\n",
    "# declaration des contraintes\n",
    "@constraint(modele_maitre, sum(graph[i, j].d * a[(i, j)] for (i, j) in edge_labels(graph)) <= z )\n",
    "# Conservation du flot :\n",
    "@constraint(\n",
    "modele_maitre,\n",
    "flow_cons[i in labels(graph)],\n",
    "(\n",
    "    sum(a[(i, j)] for j in outneighbor_labels(graph, i))\n",
    "    -\n",
    "    sum(a[(j, i)] for j in inneighbor_labels(graph, i))\n",
    "    == flow_creation(i)\n",
    "))\n",
    "@constraint(modele_maitre, sum(graph[i].p * a[(i, j)] for (i, j) in edge_labels(graph))\n",
    "+ graph[graph[].t].p <= graph[].big_s )\n",
    "#__________________________________"
   ]
  },
  {
   "cell_type": "code",
   "execution_count": null,
   "metadata": {},
   "outputs": [],
   "source": [
    "#__________SP1__________\n",
    "#declaration du modele\n",
    "SP1 = Model(Gurobi.Optimizer)\n",
    "SP1 = Model(\n",
    "                optimizer_with_attributes(\n",
    "                Gurobi.Optimizer, \"Presolve\" => 0\n",
    "                ))\n",
    "set_silent(SP1)\n",
    "#declaration des variables\n",
    "@variable(SP1, delta_d[edge_labels(graph)] >= 0)\n",
    "#declaration des contraintes\n",
    "@constraint(SP1, [(i, j) in edge_labels(graph)], delta_d[(i,j)] <= graph[i,j].big_d )\n",
    "@constraint(SP1, sum(delta_d[(i,j)] for (i, j) in edge_labels(graph)) <= graph[].d1 )\n",
    "#_______________________\n",
    "\n",
    "#__________SP2__________\n",
    "#declaration du modele\n",
    "SP2 = Model(Gurobi.Optimizer)\n",
    "SP2 = Model(\n",
    "                optimizer_with_attributes(\n",
    "                Gurobi.Optimizer, \"Presolve\" => 0\n",
    "                ))\n",
    "set_silent(SP2)\n",
    "#declaration des variables\n",
    "@variable(SP2, delta_p[labels(graph)] >= 0)\n",
    "#declaration des contraintes\n",
    "@constraint(SP2, [i in labels(graph)], delta_p[i] <= 2 )\n",
    "@constraint(SP2, sum(delta_p[i] for i in labels(graph)) <= graph[].d2 )\n",
    "#_______________________"
   ]
  },
  {
   "cell_type": "code",
   "execution_count": null,
   "metadata": {},
   "outputs": [],
   "source": [
    "function plans_coupants(\n",
    "    graph::MetaGraph;\n",
    "    timelimit::Float64=3600.0\n",
    ")::ModResultWrapper\n",
    "    start = time()\n",
    "    s::Int64 = graph[].s\n",
    "    t::Int64 = graph[].t\n",
    "    cpt = 0\n",
    "    while (time() - start < timelimit )\n",
    "        JuMP.optimize!(modele_maitre)\n",
    "        m_value = JuMP.objective_value(modele_maitre)\n",
    "        Z = JuMP.value(z)\n",
    "        A = JuMP.value.(a)\n",
    "        for (i, j) in edge_labels(graph)\n",
    "            if A[(i,j)] > 0\n",
    "                println(\"(\",i,\",\",j,\") = \", A[(i,j)])\n",
    "            end\n",
    "        end\n",
    "        # println(\"distance : \", sum(graph[i, j].d * A[(i, j)] for (i, j) in edge_labels(graph)))\n",
    "        # println(\"weights : \", sum(graph[i].p * A[(i, j)] for (i, j) in edge_labels(graph)) + graph[graph[].t].p)\n",
    "        # println(\"Z: \", Z)\n",
    "        println(\"Objective value modele_maitre: \", m_value)\n",
    "        cpt += 1\n",
    "        # Résolution SP1\n",
    "        @objective(SP1, Max, sum(graph[i, j].d * (1 + delta_d[(i,j)]) * A[(i, j)] for (i, j) in edge_labels(graph)) )\n",
    "        JuMP.optimize!(SP1)\n",
    "        SP1_value = JuMP.objective_value(SP1)\n",
    "        println(\"Objective value SP1: \", SP1_value)\n",
    "        delta_d_sol = JuMP.value.(delta_d)\n",
    "        if (round(SP1_value - Z; digits=4) > 0)\n",
    "            @constraint(modele_maitre,\n",
    "            sum(graph[i, j].d * (1 + delta_d_sol[(i,j)]) * a[(i, j)] for (i, j) in edge_labels(graph)) <= z )\n",
    "            println(\"Violée 1\")\n",
    "        end\n",
    "        # Résolution SP2\n",
    "        @objective(SP2, Max,\n",
    "        sum((graph[i].p + delta_p[i] * graph[i].ph) * A[(i, j)] for (i, j) in edge_labels(graph)) +\n",
    "        graph[t].p + delta_p[t] * graph[t].ph )\n",
    "        JuMP.optimize!(SP2)\n",
    "        # temp = JuMP.value.(delta_d)\n",
    "        # for (i, j) in edge_labels(graph)\n",
    "        #     if temp[(i,j)] > 0\n",
    "        #         println(\"(\",i,\",\",j,\") = \", temp[(i,j)])\n",
    "        #     end\n",
    "        # end\n",
    "        SP2_value = JuMP.objective_value(SP2)\n",
    "        println(\"Objective value SP2: \", SP2_value)\n",
    "        delta_p_sol = JuMP.value.(delta_p)\n",
    "        if (SP2_value > graph[].big_s)\n",
    "            @constraint(modele_maitre,\n",
    "            sum((graph[i].p + delta_p_sol[i] * graph[i].ph) * a[(i, j)] for (i, j) in edge_labels(graph)) +\n",
    "            graph[t].p + delta_p_sol[t] * graph[t].ph <= graph[].big_s )\n",
    "            println(\"Violée 2\")\n",
    "        end\n",
    "        if (round(SP1_value - Z; digits=4) <= 0 && SP2_value <= graph[].big_s)\n",
    "            # println(\"C'est bon wtf\")\n",
    "            break\n",
    "        end\n",
    "    end\n",
    "    println(\"COMPTEUR = \", cpt)\n",
    "    println(\"elapsed time : \", time() - start)\n",
    "    return (\n",
    "        primal_status=primal_status(modele_maitre),\n",
    "        dual_status=dual_status(modele_maitre),\n",
    "        term_status=termination_status(modele_maitre),\n",
    "        obj_value=objective_value(modele_maitre),\n",
    "        bound=objective_bound(modele_maitre),\n",
    "        a=Dict{Tuple{Int64, Int64}, Float64}((i, j) => value(a[(i, j)]) for (i, j) in edge_labels(graph)),\n",
    "    )\n",
    "end\n"
   ]
  },
  {
   "cell_type": "code",
   "execution_count": null,
   "metadata": {},
   "outputs": [],
   "source": [
    "res = plans_coupants(graph; timelimit=1200.0)\n",
    "println(mkPath(res.a))\n",
    "println(res.obj_value)"
   ]
  }
 ],
 "metadata": {
  "kernelspec": {
   "display_name": "Julia 1.7.2",
   "language": "julia",
   "name": "julia-1.7"
  },
  "language_info": {
   "file_extension": ".jl",
   "mimetype": "application/julia",
   "name": "julia",
   "version": "1.7.2"
  }
 },
 "nbformat": 4,
 "nbformat_minor": 2
}
