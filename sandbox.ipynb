{
 "cells": [
  {
   "cell_type": "markdown",
   "metadata": {},
   "source": [
    "## Sandbox\n",
    "\n",
    "Un  `.ipynb` pour tester des idées :)"
   ]
  },
  {
   "cell_type": "code",
   "execution_count": 1,
   "metadata": {},
   "outputs": [
    {
     "name": "stderr",
     "output_type": "stream",
     "text": [
      "\u001b[32m\u001b[1m  Activating\u001b[22m\u001b[39m project at `c:\\cours_MASTER\\PROJ\\workspace\\PROJ`\n"
     ]
    }
   ],
   "source": [
    "using Pkg\n",
    "Pkg.activate(\".\")\n",
    "Pkg.instantiate()\n",
    "using Graphs\n",
    "using MetaGraphsNext\n",
    "using JuMP\n",
    "using Gurobi\n",
    "\n",
    "ENV[\"GRB_LICENSE_FILE\"] = \"gurobi.lic\"\n",
    "include(joinpath(\"src\", \"utils.jl\"));\n",
    "include(joinpath(\"src\", \"dual_solve.jl\"));"
   ]
  },
  {
   "cell_type": "code",
   "execution_count": 2,
   "metadata": {},
   "outputs": [],
   "source": [
    "# file = joinpath(\"data\", \"20_USA-road-d.BAY.gr\")\n",
    "file = joinpath(\"data/instances\", \"20_USA-road-d.BAY.gr\")\n",
    "infos = open(\n",
    "    readInstance,\n",
    "    file,\n",
    ");"
   ]
  },
  {
   "cell_type": "code",
   "execution_count": 3,
   "metadata": {},
   "outputs": [],
   "source": [
    "graph = graphFromData(infos);"
   ]
  },
  {
   "cell_type": "code",
   "execution_count": 4,
   "metadata": {},
   "outputs": [
    {
     "data": {
      "text/plain": [
       "flow_creation (generic function with 1 method)"
      ]
     },
     "metadata": {},
     "output_type": "display_data"
    }
   ],
   "source": [
    "function flow_creation(i::Int64)::Int64\n",
    "    return Int64(graph[i].is_s) - Int64(graph[i].is_t)\n",
    "end"
   ]
  },
  {
   "cell_type": "code",
   "execution_count": 5,
   "metadata": {},
   "outputs": [
    {
     "name": "stdout",
     "output_type": "stream",
     "text": [
      "Set parameter Username\r\n",
      "Academic license - for non-commercial use only - expires 2024-09-25\r\n",
      "Set parameter Username\r\n",
      "Academic license - for non-commercial use only - expires 2024-09-25\r\n",
      "Set parameter Presolve to value 0\r\n"
     ]
    },
    {
     "data": {
      "text/latex": [
       "$$ 14 a_{(1, 2)} + 14 a_{(1, 3)} + 14 a_{(1, 4)} + 14 a_{(1, 5)} + 14 a_{(1, 6)} + 14 a_{(1, 7)} + 14 a_{(1, 8)} + 14 a_{(1, 11)} + 14 a_{(1, 12)} + 14 a_{(1, 14)} + 14 a_{(1, 18)} + 14 a_{(1, 19)} + 14 a_{(1, 20)} + 4 a_{(2, 1)} + 4 a_{(2, 9)} + 4 a_{(2, 13)} + 7 a_{(3, 1)} + 7 a_{(3, 4)} + 7 a_{(3, 9)} + 7 a_{(3, 11)} + 7 a_{(3, 13)} + 7 a_{(3, 19)} + 9 a_{(4, 1)} + 9 a_{(4, 3)} + 9 a_{(4, 9)} + 9 a_{(4, 10)} + 9 a_{(4, 13)} + 9 a_{(4, 14)} + 9 a_{(4, 16)} + 9 a_{(5, 1)} + [[\\ldots\\text{76 terms omitted}\\ldots]] + 7 a_{(15, 11)} + 7 a_{(15, 19)} + 7 a_{(16, 4)} + 7 a_{(16, 5)} + 7 a_{(16, 11)} + 7 a_{(16, 12)} + 7 a_{(16, 19)} + 7 a_{(16, 20)} + 8 a_{(18, 1)} + 8 a_{(18, 5)} + 8 a_{(18, 7)} + 8 a_{(18, 9)} + 8 a_{(18, 12)} + 8 a_{(18, 13)} + 8 a_{(18, 20)} + 12 a_{(19, 1)} + 12 a_{(19, 3)} + 12 a_{(19, 9)} + 12 a_{(19, 10)} + 12 a_{(19, 13)} + 12 a_{(19, 14)} + 12 a_{(19, 16)} + 9 a_{(20, 1)} + 9 a_{(20, 6)} + 9 a_{(20, 9)} + 9 a_{(20, 10)} + 9 a_{(20, 13)} + 9 a_{(20, 16)} + 9 a_{(20, 17)} + 9 a_{(20, 18)} \\leq 59 $$"
      ],
      "text/plain": [
       "14 a[(1, 2)] + 14 a[(1, 3)] + 14 a[(1, 4)] + 14 a[(1, 5)] + 14 a[(1, 6)] + 14 a[(1, 7)] + 14 a[(1, 8)] + 14 a[(1, 11)] + 14 a[(1, 12)] + 14 a[(1, 14)] + 14 a[(1, 18)] + 14 a[(1, 19)] + 14 a[(1, 20)] + 4 a[(2, 1)] + 4 a[(2, 9)] + 4 a[(2, 13)] + 7 a[(3, 1)] + 7 a[(3, 4)] + 7 a[(3, 9)] + 7 a[(3, 11)] + 7 a[(3, 13)] + 7 a[(3, 19)] + 9 a[(4, 1)] + 9 a[(4, 3)] + 9 a[(4, 9)] + 9 a[(4, 10)] + 9 a[(4, 13)] + 9 a[(4, 14)] + 9 a[(4, 16)] + 9 a[(5, 1)] + [[...76 terms omitted...]] + 7 a[(15, 11)] + 7 a[(15, 19)] + 7 a[(16, 4)] + 7 a[(16, 5)] + 7 a[(16, 11)] + 7 a[(16, 12)] + 7 a[(16, 19)] + 7 a[(16, 20)] + 8 a[(18, 1)] + 8 a[(18, 5)] + 8 a[(18, 7)] + 8 a[(18, 9)] + 8 a[(18, 12)] + 8 a[(18, 13)] + 8 a[(18, 20)] + 12 a[(19, 1)] + 12 a[(19, 3)] + 12 a[(19, 9)] + 12 a[(19, 10)] + 12 a[(19, 13)] + 12 a[(19, 14)] + 12 a[(19, 16)] + 9 a[(20, 1)] + 9 a[(20, 6)] + 9 a[(20, 9)] + 9 a[(20, 10)] + 9 a[(20, 13)] + 9 a[(20, 16)] + 9 a[(20, 17)] + 9 a[(20, 18)] <= 59"
      ]
     },
     "metadata": {},
     "output_type": "display_data"
    }
   ],
   "source": [
    "#declaration du modele\n",
    "m = Model(Gurobi.Optimizer)\n",
    "m = Model(\n",
    "                optimizer_with_attributes(\n",
    "                Gurobi.Optimizer, \"Presolve\" => 0\n",
    "                ))\n",
    "set_silent(m)\n",
    "#declaration des variables\n",
    "@variable(m, a[edge_labels(graph)], Bin)  # vaut 1 ssi arc (i,j) choisi\n",
    "@objective(m, Min, sum(graph[i, j].d * a[(i, j)] for (i, j) in edge_labels(graph)))\n",
    "# declaration des contraintes\n",
    "# Conservation du flot :\n",
    "@constraint(\n",
    "m,\n",
    "flow_cons[i in labels(graph)],\n",
    "(\n",
    "    sum(a[(i, j)] for j in outneighbor_labels(graph, i))\n",
    "    -\n",
    "    sum(a[(j, i)] for j in inneighbor_labels(graph, i))\n",
    "    == flow_creation(i)\n",
    "))\n",
    "@constraint(m, sum(graph[i].p * a[(i, j)] for (i, j) in edge_labels(graph))\n",
    "+ graph[graph[].t].p <= graph[].big_s )"
   ]
  },
  {
   "cell_type": "code",
   "execution_count": 9,
   "metadata": {},
   "outputs": [
    {
     "data": {
      "text/plain": [
       "resolution (generic function with 1 method)"
      ]
     },
     "metadata": {},
     "output_type": "display_data"
    }
   ],
   "source": [
    "function resolution(\n",
    "    graph::MetaGraph;\n",
    "    timelimit::Float64=3600.0\n",
    ")::ModResultWrapper\n",
    "    start = time()\n",
    "    s::Int64 = graph[].s\n",
    "    t::Int64 = graph[].t\n",
    "    JuMP.optimize!(m)\n",
    "    m_value = JuMP.objective_value(m)\n",
    "    A = JuMP.value.(a)\n",
    "    for (i, j) in edge_labels(graph)\n",
    "        if A[(i,j)] > 0\n",
    "            println(\"(\",i,\",\",j,\") = \", A[(i,j)])\n",
    "        end\n",
    "    end\n",
    "    println(\"Objective value m: \", m_value)\n",
    "    println(\"elapsed time : \", time() - start)\n",
    "    return (\n",
    "        primal_status=primal_status(m),\n",
    "        dual_status=dual_status(m),\n",
    "        term_status=termination_status(m),\n",
    "        obj_value=objective_value(m),\n",
    "        lower_bound=objective_bound(m),\n",
    "        upper_bound=(primal_status(m) == FEASIBLE_POINT ? objective_value(m) : Inf),\n",
    "        a=Dict{Tuple{Int64, Int64}, Float64}((i, j) => value(a[(i, j)]) for (i, j) in edge_labels(graph)),\n",
    "    )\n",
    "end"
   ]
  },
  {
   "cell_type": "code",
   "execution_count": 11,
   "metadata": {},
   "outputs": [
    {
     "name": "stdout",
     "output_type": "stream",
     "text": [
      "(1,20) = 1.0\n",
      "(15,19) = 1.0\n",
      "(19,1) = 1.0\n",
      "(20,17) = 1.0\n",
      "Objective value m: 9365.0\n",
      "elapsed time : 0.006000041961669922\n",
      "[15, 19, 1, 20, 17]\n",
      "9365.0\n"
     ]
    }
   ],
   "source": [
    "res = resolution(graph; timelimit=time() + 60.0)\n",
    "println(mkPath(res.a))\n",
    "println(res.obj_value)"
   ]
  }
 ],
 "metadata": {
  "kernelspec": {
   "display_name": "Julia 1.7.2",
   "language": "julia",
   "name": "julia-1.7"
  },
  "language_info": {
   "file_extension": ".jl",
   "mimetype": "application/julia",
   "name": "julia",
   "version": "1.7.2"
  }
 },
 "nbformat": 4,
 "nbformat_minor": 2
}
