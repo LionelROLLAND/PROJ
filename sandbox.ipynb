{
 "cells": [
  {
   "cell_type": "markdown",
   "metadata": {},
   "source": [
    "## Sandbox\n",
    "\n",
    "Un  `.ipynb` pour tester des idées :)"
   ]
  },
  {
   "cell_type": "code",
   "execution_count": null,
   "metadata": {},
   "outputs": [],
   "source": [
    "using Pkg\n",
    "Pkg.activate(\".\")\n",
    "Pkg.instantiate()\n",
    "using Graphs\n",
    "using MetaGraphsNext\n",
    "using JuMP\n",
    "using Gurobi\n",
    "\n",
    "ENV[\"GRB_LICENSE_FILE\"] = \"gurobi.lic\"\n",
    "include(joinpath(\"src\", \"utils.jl\"));\n",
    "include(joinpath(\"src\", \"dual_solve.jl\"));\n",
    "include(joinpath(\"src\", \"heuristics.jl\"));\n",
    "include(joinpath(\"src\", \"cutting_planes.jl\"));\n",
    "include(joinpath(\"src\", \"testing.jl\"));"
   ]
  },
  {
   "cell_type": "code",
   "execution_count": null,
   "metadata": {},
   "outputs": [],
   "source": [
    "dual = completeModelWrapper(dualSolve, time_budget=20 * 60.0)\n",
    "\n",
    "time_budget = nSquaredTimeWithMax(maxtime=10 * 60.0, mintime=10.0)\n",
    "heuristique = heurWrapper(time_budget_fun=time_budget)\n",
    "\n",
    "cutting_planes = completeModelWrapper(plans_coupants, time_budget=20 * 60.0);"
   ]
  },
  {
   "cell_type": "code",
   "execution_count": null,
   "metadata": {},
   "outputs": [],
   "source": [
    "dual_file = joinpath(\"data\", \"results\", \"dual_1.json\")\n",
    "\n",
    "heuristique_file = joinpath(\"data\", \"results\", \"heuristique_1.json\")\n",
    "\n",
    "cutting_plane_file = joinpath(\"data\", \"results\", \"cutting_plane_3.json\")\n",
    "\n",
    "instance_dir = joinpath(\"data\", \"instances\");"
   ]
  },
  {
   "cell_type": "code",
   "execution_count": null,
   "metadata": {},
   "outputs": [],
   "source": [
    "testMethod(\n",
    "    method=dual;\n",
    "    method_name=\"Dualisation\",\n",
    "    save=dual_file,\n",
    "    instance_dir=instance_dir,\n",
    ")"
   ]
  },
  {
   "cell_type": "code",
   "execution_count": null,
   "metadata": {},
   "outputs": [],
   "source": [
    "testMethod(\n",
    "    method=heuristique;\n",
    "    method_name=\"Heuristique\",\n",
    "    save=heuristique_file,\n",
    "    instance_dir=instance_dir,\n",
    ")"
   ]
  },
  {
   "cell_type": "code",
   "execution_count": null,
   "metadata": {},
   "outputs": [],
   "source": [
    "testMethod(\n",
    "    method=cutting_planes;\n",
    "    method_name=\"Plans coupants\",\n",
    "    save=cutting_plane_file,\n",
    "    instance_dir=instance_dir,\n",
    ")"
   ]
  },
  {
   "cell_type": "code",
   "execution_count": null,
   "metadata": {},
   "outputs": [],
   "source": [
    "dual_res = joinpath(\"data\", \"results\", \"dual_1.json\")\n",
    "heur_res = joinpath(\"data\", \"results\", \"heuristique_1.json\");\n",
    "cp_res = joinpath(\"data\", \"results\", \"cutting_plane_3.json\");"
   ]
  },
  {
   "cell_type": "code",
   "execution_count": null,
   "metadata": {},
   "outputs": [],
   "source": [
    "processed = processResultsForTable(\n",
    "    [dual_res, heur_res, cp_res];\n",
    "    not_robust_method=\"None\",\n",
    ")\n",
    "\n",
    "open(\n",
    "    fd -> writeTable(\n",
    "        [\"Dualisation\", \"Heuristique\", \"Plans coupants\"];\n",
    "        results=processed,\n",
    "        template_file=joinpath(\"template\", \"table.tex\"),\n",
    "        output=fd,\n",
    "    ),\n",
    "    joinpath(\"out\", \"table_2.tex\"),\n",
    "    write=true,\n",
    ")"
   ]
  }
 ],
 "metadata": {
  "kernelspec": {
   "display_name": "Julia 1.7.2",
   "language": "julia",
   "name": "julia-1.7"
  },
  "language_info": {
   "file_extension": ".jl",
   "mimetype": "application/julia",
   "name": "julia",
   "version": "1.7.2"
  }
 },
 "nbformat": 4,
 "nbformat_minor": 2
}
