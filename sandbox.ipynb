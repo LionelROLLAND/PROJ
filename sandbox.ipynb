{
 "cells": [
  {
   "cell_type": "markdown",
   "metadata": {},
   "source": [
    "## Sandbox\n",
    "\n",
    "Un  `.ipynb` pour tester des idées :)"
   ]
  },
  {
   "cell_type": "code",
   "execution_count": null,
   "metadata": {},
   "outputs": [],
   "source": [
    "using Pkg\n",
    "Pkg.activate(\".\")\n",
    "Pkg.instantiate()"
   ]
  },
  {
   "cell_type": "markdown",
   "metadata": {},
   "source": [
    "#### Fonctions de lecture des instances :"
   ]
  },
  {
   "cell_type": "code",
   "execution_count": null,
   "metadata": {},
   "outputs": [],
   "source": [
    "function readInstance(fd::IOStream)::NamedTuple{\n",
    "    (:n, :s, :t, :big_s, :d1, :d2, :p, :ph, :arcs),\n",
    "    Tuple{\n",
    "        Int64,\n",
    "        Int64,\n",
    "        Int64,\n",
    "        Int64,\n",
    "        Int64,\n",
    "        Int64,\n",
    "        Vector{Int64},\n",
    "        Vector{Int64},\n",
    "        Dict{Tuple{Int64, Int64}, NamedTuple{(:d, :big_d), Tuple{Int64, Float64}}},\n",
    "    },\n",
    "}\n",
    "    lines::Vector{String} = readlines(fd)\n",
    "    n::Int64 = parse(Int64, split(lines[1], \" \")[end])\n",
    "    s::Int64 = parse(Int64, split(lines[2], \" \")[end])\n",
    "    t::Int64 = parse(Int64, split(lines[3], \" \")[end])\n",
    "    big_s::Int64 = parse(Int64, split(lines[4], \" \")[end])\n",
    "    d1::Int64 = parse(Int64, split(lines[5], \" \")[end])\n",
    "    d2::Int64 = parse(Int64, split(lines[6], \" \")[end])\n",
    "    str_p::Vector{String} = split(\n",
    "        strip(lines[7], Set{Char}(['p', '=', ' ', '[', ']', ';'])),\n",
    "        \", \";\n",
    "        keepempty=false,\n",
    "    )\n",
    "    p::Vector{Int64} = collect(parse(Int64, str_i) for str_i in str_p)\n",
    "    str_ph::Vector{String} = split(\n",
    "        strip(lines[8], Set{Char}(['p', 'h', '=', ' ', '[', ']', ';'])),\n",
    "        \", \";\n",
    "        keepempty=false,\n",
    "    )\n",
    "    ph::Vector{Int64} = collect(parse(Int64, str_i) for str_i in str_ph)\n",
    "    arc_dict::Dict{Tuple{Int64, Int64}, NamedTuple{(:d, :big_d), Tuple{Int64, Float64}}} = Dict()\n",
    "    for line in lines[10:end]\n",
    "        str_arc::Vector{String} = split(\n",
    "            strip(line, Set{Char}([' ', ';', '[', ']'])),\n",
    "            \" \";\n",
    "            keepempty=false,\n",
    "        )\n",
    "        i::Int64 = parse(Int64, str_arc[1])\n",
    "        j::Int64 = parse(Int64, str_arc[2])\n",
    "        d::Int64 = parse(Int64, str_arc[3])\n",
    "        big_d::Float64 = parse(Float64, str_arc[4])\n",
    "        arc_dict[(i, j)] = (d=d, big_d=big_d)\n",
    "    end\n",
    "    return (n=n, s=s, t=t, big_s=big_s, d1=d1, d2=d2, p=p, ph=ph, arcs=arc_dict)\n",
    "end"
   ]
  },
  {
   "cell_type": "code",
   "execution_count": null,
   "metadata": {},
   "outputs": [],
   "source": [
    "infos = (\n",
    "    (\"data\", \"20_USA-road-d.BAY.gr\")\n",
    "    |> joinpath\n",
    "    |> open\n",
    "    |> readInstance\n",
    ");"
   ]
  },
  {
   "cell_type": "code",
   "execution_count": null,
   "metadata": {},
   "outputs": [],
   "source": [
    "println(infos.n)\n",
    "println(infos.s)\n",
    "println(infos.t)\n",
    "println(infos.big_s)\n",
    "println(infos.d1)\n",
    "println(infos.d2)\n",
    "println(infos.p)\n",
    "println(infos.ph)\n",
    "println(infos.arcs)"
   ]
  },
  {
   "cell_type": "markdown",
   "metadata": {},
   "source": [
    "#### Transformation des infos brutes en graph"
   ]
  },
  {
   "cell_type": "code",
   "execution_count": null,
   "metadata": {},
   "outputs": [],
   "source": [
    "using Graphs, MetaGraphsNext"
   ]
  },
  {
   "cell_type": "code",
   "execution_count": null,
   "metadata": {},
   "outputs": [],
   "source": [
    "function weight_fun(\n",
    "    ntup::NamedTuple{\n",
    "        (:d, :big_d, :weight),\n",
    "        Tuple{Int64, Float64, Ref{Float64}}\n",
    "    }\n",
    ")::Float64\n",
    "    return ntup.weight[]\n",
    "end\n",
    "\n",
    "function graphFromData(\n",
    "    data::NamedTuple{\n",
    "        (:n, :s, :t, :big_s, :d1, :d2, :p, :ph, :arcs),\n",
    "        Tuple{\n",
    "            Int64,\n",
    "            Int64,\n",
    "            Int64,\n",
    "            Int64,\n",
    "            Int64,\n",
    "            Int64,\n",
    "            Vector{Int64},\n",
    "            Vector{Int64},\n",
    "            Dict{Tuple{Int64, Int64}, NamedTuple{(:d, :big_d), Tuple{Int64, Float64}}},\n",
    "        },\n",
    "    }\n",
    ")::MetaGraph\n",
    "    if data.s == data.t\n",
    "        error(\"The source and the sink are the same node.\")\n",
    "    end\n",
    "    graph = MetaGraph(\n",
    "        DiGraph();\n",
    "        label_type=Int64,\n",
    "        vertex_data_type=NamedTuple{(:is_s, :is_t, :p, :ph), Tuple{Bool, Bool, Int64, Int64}},\n",
    "        edge_data_type=NamedTuple{(:d, :big_d, :weight), Tuple{Int64, Float64, Ref{Float64}}},\n",
    "        weight_function=weight_fun,\n",
    "        default_weight=Inf,\n",
    "        graph_data=(s=data.s, t=data.t, big_s=data.big_s, d1=data.d1, d2=data.d2),\n",
    "    )\n",
    "    for i in 1:data.n\n",
    "        if i == data.s\n",
    "            graph[i] = (is_s=true, is_t=false, p=data.p[i], ph=data.ph[i])\n",
    "        elseif i == data.t\n",
    "            graph[i] = (is_s=false, is_t=true, p=data.p[i], ph=data.ph[i])\n",
    "        else\n",
    "            graph[i] = (is_s=false, is_t=false, p=data.p[i], ph=data.ph[i])\n",
    "        end\n",
    "    end\n",
    "    for ((i, j), arc) in data.arcs\n",
    "        graph[i, j] = (d=arc.d, big_d=arc.big_d, weight=Ref{Float64}(Inf))\n",
    "    end\n",
    "    return graph\n",
    "end"
   ]
  },
  {
   "cell_type": "code",
   "execution_count": null,
   "metadata": {},
   "outputs": [],
   "source": [
    "graph = (\n",
    "    (\"data\", \"20_USA-road-d.BAY.gr\")\n",
    "    |> joinpath\n",
    "    |> open\n",
    "    |> readInstance\n",
    "    |> graphFromData\n",
    ");"
   ]
  },
  {
   "cell_type": "code",
   "execution_count": null,
   "metadata": {},
   "outputs": [],
   "source": [
    "for i in labels(graph)\n",
    "    println(graph[i])\n",
    "end"
   ]
  },
  {
   "cell_type": "code",
   "execution_count": null,
   "metadata": {},
   "outputs": [],
   "source": [
    "for (i, j) in edge_labels(graph)\n",
    "    print(graph[i, j])\n",
    "end"
   ]
  }
 ],
 "metadata": {
  "kernelspec": {
   "display_name": "Julia 1.7.2",
   "language": "julia",
   "name": "julia-1.7"
  },
  "language_info": {
   "file_extension": ".jl",
   "mimetype": "application/julia",
   "name": "julia",
   "version": "1.7.2"
  }
 },
 "nbformat": 4,
 "nbformat_minor": 2
}
