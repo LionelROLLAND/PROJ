{
 "cells": [
  {
   "cell_type": "markdown",
   "metadata": {},
   "source": [
    "## Sandbox\n",
    "\n",
    "Un  `.ipynb` pour tester des idées :)"
   ]
  },
  {
   "cell_type": "code",
   "execution_count": null,
   "metadata": {},
   "outputs": [],
   "source": [
    "using Pkg\n",
    "Pkg.activate(\".\")\n",
    "Pkg.instantiate()\n",
    "using Graphs\n",
    "using MetaGraphsNext\n",
    "using JuMP\n",
    "using Gurobi\n",
    "\n",
    "ENV[\"GRB_LICENSE_FILE\"] = \"gurobi.lic\"\n",
    "include(joinpath(\"src\", \"utils.jl\"));\n",
    "include(joinpath(\"src\", \"resolution.jl\"))\n",
    "include(joinpath(\"src\", \"cutting_planes.jl\"));\n",
    "include(joinpath(\"src\", \"branch_and_cut.jl\"));\n",
    "include(joinpath(\"src\", \"dual_solve.jl\"));\n",
    "include(joinpath(\"src\", \"heuristics.jl\"));\n",
    "include(joinpath(\"src\", \"testing.jl\"));\n",
    "include(joinpath(\"src\", \"latex.jl\"));\n",
    "include(joinpath(\"src\", \"graphics.jl\"));"
   ]
  },
  {
   "cell_type": "code",
   "execution_count": null,
   "metadata": {},
   "outputs": [],
   "source": [
    "statique = completeModelWrapper(resolution, time_budget=20 * 60.0)\n",
    "\n",
    "dual = completeModelWrapper(dualSolve, time_budget=20 * 60.0)\n",
    "\n",
    "time_budget = nSquaredTimeWithMax(maxtime=10 * 60.0, mintime=10.0)\n",
    "heuristique = heurWrapper(time_budget_fun=time_budget)\n",
    "\n",
    "cutting_planes = completeModelWrapper(plans_coupants, time_budget=20 * 60.0);\n",
    "\n",
    "b_and_c = completeModelWrapper(branch_and_cut, time_budget=20 * 60.0);"
   ]
  },
  {
   "cell_type": "code",
   "execution_count": null,
   "metadata": {},
   "outputs": [],
   "source": [
    "statique_file = joinpath(\"data\", \"results\", \"statique_1.json\")\n",
    "\n",
    "dual_file = joinpath(\"data\", \"results\", \"dual_1.json\")\n",
    "\n",
    "heuristique_file = joinpath(\"data\", \"results\", \"heuristique_1.json\")\n",
    "\n",
    "cutting_plane_file = joinpath(\"data\", \"results\", \"cutting_plane_4.json\")\n",
    "\n",
    "branch_and_cut_file = joinpath(\"data\", \"results\", \"branch_and_cut_1.json\")\n",
    "\n",
    "instance_dir = joinpath(\"data\", \"instances\");"
   ]
  },
  {
   "cell_type": "code",
   "execution_count": null,
   "metadata": {},
   "outputs": [],
   "source": [
    "testMethod(\n",
    "    method=dual;\n",
    "    method_name=\"Dualisation\",\n",
    "    save=dual_file,\n",
    "    instance_dir=instance_dir,\n",
    ")"
   ]
  },
  {
   "cell_type": "code",
   "execution_count": null,
   "metadata": {},
   "outputs": [],
   "source": [
    "testMethod(\n",
    "    method=heuristique;\n",
    "    method_name=\"Heuristique\",\n",
    "    save=heuristique_file,\n",
    "    instance_dir=instance_dir,\n",
    ")"
   ]
  },
  {
   "cell_type": "code",
   "execution_count": null,
   "metadata": {},
   "outputs": [],
   "source": [
    "testMethod(\n",
    "    method=cutting_planes;\n",
    "    method_name=\"Plans coupants\",\n",
    "    save=cutting_plane_file,\n",
    "    instance_dir=instance_dir,\n",
    ")"
   ]
  },
  {
   "cell_type": "code",
   "execution_count": null,
   "metadata": {},
   "outputs": [],
   "source": [
    "testMethod(\n",
    "    method=b_and_c;\n",
    "    method_name=\"Branch & Cut\",\n",
    "    save=branch_and_cut_file,\n",
    "    instance_dir=instance_dir,\n",
    ")"
   ]
  },
  {
   "cell_type": "code",
   "execution_count": null,
   "metadata": {},
   "outputs": [],
   "source": [
    "testMethod(\n",
    "    method=statique;\n",
    "    method_name=\"Statique\",\n",
    "    save=statique_file,\n",
    "    instance_dir=instance_dir,\n",
    ")"
   ]
  },
  {
   "cell_type": "code",
   "execution_count": null,
   "metadata": {},
   "outputs": [],
   "source": [
    "res_files = [\n",
    "    statique_file,\n",
    "    dual_file,\n",
    "    heuristique_file,\n",
    "    cutting_plane_file,\n",
    "    branch_and_cut_file,\n",
    "];"
   ]
  },
  {
   "cell_type": "code",
   "execution_count": null,
   "metadata": {},
   "outputs": [],
   "source": [
    "processed = processResultsForTable(\n",
    "    res_files;\n",
    "    not_robust_method=\"Statique\",\n",
    ")\n",
    "output_file = joinpath(\"out\", \"table_4.tex\")\n",
    "\n",
    "open(\n",
    "    fd -> writeTable(\n",
    "        [\"Dualisation\", \"Plans coupants\", \"Branch & Cut\", \"Heuristique\"];\n",
    "        results=processed,\n",
    "        template_file=joinpath(\"template\", \"table.tex\"),\n",
    "        output=fd,\n",
    "    ),\n",
    "    output_file,\n",
    "    write=true,\n",
    ")"
   ]
  },
  {
   "cell_type": "code",
   "execution_count": null,
   "metadata": {},
   "outputs": [],
   "source": [
    "graphic_file = joinpath(\"out\", \"perf_diag_1.png\")\n",
    "graphic_results = processResultsForPerfDiag(\n",
    "    res_files;\n",
    "    not_robust_method=\"Statique\",\n",
    ")\n",
    "savePerfDiag(\n",
    "    graphic_results;\n",
    "    until=5400.0,\n",
    "    output=graphic_file,\n",
    ")"
   ]
  }
 ],
 "metadata": {
  "kernelspec": {
   "display_name": "Julia 1.7.2",
   "language": "julia",
   "name": "julia-1.7"
  },
  "language_info": {
   "file_extension": ".jl",
   "mimetype": "application/julia",
   "name": "julia",
   "version": "1.7.2"
  }
 },
 "nbformat": 4,
 "nbformat_minor": 2
}
