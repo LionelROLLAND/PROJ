{
 "cells": [
  {
   "cell_type": "markdown",
   "metadata": {},
   "source": [
    "## Sandbox\n",
    "\n",
    "Un  `.ipynb` pour tester des idées :)"
   ]
  },
  {
   "cell_type": "code",
   "execution_count": null,
   "metadata": {},
   "outputs": [],
   "source": [
    "using Pkg\n",
    "Pkg.activate(\".\")\n",
    "Pkg.instantiate()\n",
    "using Graphs\n",
    "using MetaGraphsNext\n",
    "using JuMP\n",
    "using Gurobi\n",
    "\n",
    "ENV[\"GRB_LICENSE_FILE\"] = \"gurobi.lic\"\n",
    "include(joinpath(\"src\", \"utils.jl\"));\n",
    "include(joinpath(\"src\", \"dual_solve.jl\"));\n",
    "include(joinpath(\"src\", \"testing.jl\"));\n",
    "include(joinpath(\"src\", \"latex.jl\"))"
   ]
  },
  {
   "cell_type": "code",
   "execution_count": null,
   "metadata": {},
   "outputs": [],
   "source": [
    "dual = completeModelWrapper(dualSolve, time_budget=300.0);"
   ]
  },
  {
   "cell_type": "code",
   "execution_count": null,
   "metadata": {},
   "outputs": [],
   "source": [
    "save_file = joinpath(\"data\", \"results\", \"test.json\")\n",
    "instance_dir = joinpath(\"data\", \"small_instances\")\n",
    "testMethod(\n",
    "    method=dual;\n",
    "    method_name=\"Dualisation\",\n",
    "    save=save_file,\n",
    "    instance_dir=instance_dir,\n",
    ")"
   ]
  },
  {
   "cell_type": "code",
   "execution_count": null,
   "metadata": {},
   "outputs": [],
   "source": [
    "methods = [\"Dualisation\"]\n",
    "src_files = [joinpath(\"data\", \"results\", \"test.json\")]\n",
    "template_file = joinpath(\"template\", \"table.tex\")\n",
    "output_file = joinpath(\"out\", \"table.tex\")\n",
    "not_robust = \"None\";"
   ]
  },
  {
   "cell_type": "code",
   "execution_count": null,
   "metadata": {},
   "outputs": [],
   "source": [
    "results = processResultsForTable(\n",
    "    src_files;\n",
    "    not_robust_method=not_robust,\n",
    ")\n",
    "\n",
    "open(\n",
    "    fd -> writeTable(\n",
    "        methods;\n",
    "        results=results,\n",
    "        template_file=template_file,\n",
    "        output=fd,\n",
    "    ),\n",
    "    output_file,\n",
    "    write=true,\n",
    ")"
   ]
  }
 ],
 "metadata": {
  "kernelspec": {
   "display_name": "Julia 1.7.2",
   "language": "julia",
   "name": "julia-1.7"
  },
  "language_info": {
   "file_extension": ".jl",
   "mimetype": "application/julia",
   "name": "julia",
   "version": "1.7.2"
  }
 },
 "nbformat": 4,
 "nbformat_minor": 2
}
