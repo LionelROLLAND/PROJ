{
 "cells": [
  {
   "cell_type": "markdown",
   "metadata": {},
   "source": [
    "## Sandbox\n",
    "\n",
    "Un  `.ipynb` pour tester des idées :)"
   ]
  },
  {
   "cell_type": "code",
   "execution_count": null,
   "metadata": {},
   "outputs": [],
   "source": [
    "using Pkg\n",
    "Pkg.activate(\".\")\n",
    "Pkg.instantiate()\n",
    "using Graphs\n",
    "using MetaGraphsNext\n",
    "using JuMP\n",
    "using Gurobi\n",
    "\n",
    "ENV[\"GRB_LICENSE_FILE\"] = \"gurobi.lic\"\n",
    "include(joinpath(\"src\", \"utils.jl\"));"
   ]
  },
  {
   "cell_type": "code",
   "execution_count": null,
   "metadata": {},
   "outputs": [],
   "source": [
    "M = Model(Gurobi.Optimizer)"
   ]
  },
  {
   "cell_type": "code",
   "execution_count": null,
   "metadata": {},
   "outputs": [],
   "source": [
    "infos = open(\n",
    "    readInstance,\n",
    "    joinpath(\"data\", \"20_USA-road-d.BAY.gr\"),\n",
    ");"
   ]
  },
  {
   "cell_type": "code",
   "execution_count": null,
   "metadata": {},
   "outputs": [],
   "source": [
    "graph = graphFromData(infos);"
   ]
  },
  {
   "cell_type": "code",
   "execution_count": null,
   "metadata": {},
   "outputs": [],
   "source": [
    "ResultWrapper = NamedTuple{\n",
    "    (:primal_status, :dual_status, :term_status, :obj_value, :bound, :a),\n",
    "    Tuple{\n",
    "        ResultStatusCode,\n",
    "        ResultStatusCode,\n",
    "        TerminationStatusCode,\n",
    "        Float64,\n",
    "        Float64,\n",
    "        Dict{Tuple{Int64, Int64}, Float64},\n",
    "    }\n",
    "}\n",
    "\n",
    "function dualSolve(\n",
    "    graph::MetaGraph;\n",
    "    timelimit::Float64=time() + 3600.0,\n",
    ")::ResultWrapper\n",
    "    s::Int64 = graph[].s\n",
    "    t::Int64 = graph[].t\n",
    "    m = Model(Gurobi.Optimizer)\n",
    "    set_silent(m)\n",
    "    function flow_creation(i::Int64)::Int64\n",
    "        return Int64(graph[i].is_s) - Int64(graph[i].is_t)\n",
    "    end\n",
    "    @variable(m, a[edge_labels(graph)], Bin)\n",
    "    # Conservation du flot :\n",
    "    @constraint(\n",
    "        m,\n",
    "        flow_cons[i in labels(graph)],\n",
    "        (\n",
    "            sum(a[(i, j)] for j in outneighbor_labels(graph, i))\n",
    "            -\n",
    "            sum(a[(j, i)] for j in inneighbor_labels(graph, i))\n",
    "            == flow_creation(i)\n",
    "        )\n",
    "    )\n",
    "    @variable(m, lambda_d >= 0)\n",
    "    @variable(m, mu_d[edge_labels(graph)] >= 0)\n",
    "    # Contrainte de (D_d)\n",
    "    @constraint(\n",
    "        m,\n",
    "        d_dual_cons[(i, j) in edge_labels(graph)],\n",
    "        lambda_d + mu_d[(i, j)] >= graph[i, j].d * a[(i, j)],\n",
    "    )\n",
    "    @variable(m, lambda_p >= 0)\n",
    "    @variable(m, mu_p[labels(graph)] >= 0)\n",
    "    # Contrainte de (D_p)\n",
    "    @constraint(\n",
    "        m,\n",
    "        p_dual_cons[i in labels(graph)],\n",
    "        lambda_p + mu_p[i]\n",
    "        >=\n",
    "        graph[i].ph * (graph[i].is_t + sum(a[(i, j)] for j in outneighbor_labels(graph, i))),\n",
    "    )\n",
    "    # Contrainte correspondant a l'objectif de (D_p)\n",
    "    @constraint(\n",
    "        m,\n",
    "        p_dual_obj,\n",
    "        (\n",
    "            graph[t].p\n",
    "            +\n",
    "            sum(graph[i].p * a[(i, j)] for i in labels(graph) for j in outneighbor_labels(graph, i))\n",
    "            +\n",
    "            2 * sum(mu_p) + lambda_p * graph[].d2\n",
    "            <= graph[].big_s\n",
    "        )\n",
    "    )\n",
    "    # Objectif\n",
    "    @objective(\n",
    "        m,\n",
    "        Min,\n",
    "        graph[].d1 * lambda_d\n",
    "        + sum(\n",
    "            graph[i, j].d * a[(i, j)] \n",
    "            +\n",
    "            graph[i, j].big_d * mu_d[(i, j)]\n",
    "            for (i, j) in edge_labels(graph)\n",
    "        )\n",
    "    )\n",
    "    set_attribute(m, \"TimeLimit\", timelimit - time())\n",
    "    optimize!(m)\n",
    "    return (\n",
    "        primal_status=primal_status(m),\n",
    "        dual_status=dual_status(m),\n",
    "        term_status=termination_status(m),\n",
    "        obj_value=objective_value(m),\n",
    "        bound=objective_bound(m),\n",
    "        a=Dict{Tuple{Int64, Int64}, Float64}((i, j) => value(a[(i, j)]) for (i, j) in edge_labels(graph)),\n",
    "    )\n",
    "end"
   ]
  },
  {
   "cell_type": "code",
   "execution_count": null,
   "metadata": {},
   "outputs": [],
   "source": [
    "function mkPath(a::Dict{Tuple{Int64, Int64}, Float64})::Vector{Int64}\n",
    "    building_dict::Dict{Int64, Int64} = Dict{Int64, Int64}()\n",
    "    for ((i, j), val) in pairs(a)\n",
    "        int_val::Int64 = Int64(val)\n",
    "        floor(val) == val && int_val in [0, 1] ? nothing : error(\"a is not integer feasible.\")\n",
    "        if int_val == 1\n",
    "            haskey(building_dict, i) ? error(\"Two arcs coming from the same node.\") : building_dict[i] = j\n",
    "        end\n",
    "    end\n",
    "    current_i::Int64 = only(setdiff(keys(building_dict), values(building_dict)))\n",
    "    path::Vector{Int64} = [current_i]\n",
    "    while haskey(building_dict, current_i)\n",
    "        current_i = building_dict[current_i]\n",
    "        push!(path, current_i)\n",
    "    end\n",
    "    return path\n",
    "end"
   ]
  },
  {
   "cell_type": "code",
   "execution_count": null,
   "metadata": {},
   "outputs": [],
   "source": [
    "res = dualSolve(graph; timelimit=time() + 60.0)\n",
    "mkPath(res.a)"
   ]
  }
 ],
 "metadata": {
  "kernelspec": {
   "display_name": "Julia 1.7.2",
   "language": "julia",
   "name": "julia-1.7"
  },
  "language_info": {
   "file_extension": ".jl",
   "mimetype": "application/julia",
   "name": "julia",
   "version": "1.7.2"
  }
 },
 "nbformat": 4,
 "nbformat_minor": 2
}
