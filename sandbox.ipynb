{
 "cells": [
  {
   "cell_type": "markdown",
   "metadata": {},
   "source": [
    "## PROJ - notebook\n",
    "\n",
    "Un  `.ipynb` pour faire tourner les tests et écrire les résultats."
   ]
  },
  {
   "cell_type": "code",
   "execution_count": null,
   "metadata": {},
   "outputs": [],
   "source": [
    "using Pkg\n",
    "Pkg.activate(\".\")\n",
    "Pkg.instantiate()\n",
    "using Graphs\n",
    "using MetaGraphsNext\n",
    "using JuMP\n",
    "using Gurobi\n",
    "\n",
    "ENV[\"GRB_LICENSE_FILE\"] = \"gurobi.lic\"\n",
    "include(joinpath(\"src\", \"utils.jl\"));\n",
    "include(joinpath(\"src\", \"resolution.jl\"))\n",
    "include(joinpath(\"src\", \"cutting_planes.jl\"));\n",
    "include(joinpath(\"src\", \"branch_and_cut.jl\"));\n",
    "include(joinpath(\"src\", \"dual_solve.jl\"));\n",
    "include(joinpath(\"src\", \"heuristics.jl\"));\n",
    "include(joinpath(\"src\", \"testing.jl\"));\n",
    "include(joinpath(\"src\", \"latex.jl\"));\n",
    "include(joinpath(\"src\", \"graphics.jl\"));"
   ]
  },
  {
   "cell_type": "markdown",
   "metadata": {},
   "source": [
    "Définit les méthodes à tester et les fichier dans lesquels mettre les outputs :"
   ]
  },
  {
   "cell_type": "code",
   "execution_count": null,
   "metadata": {},
   "outputs": [],
   "source": [
    "statique = completeModelWrapper(resolution, time_budget=2 * 60.0)\n",
    "\n",
    "dual = completeModelWrapper(dualSolve, time_budget=2 * 60.0)\n",
    "\n",
    "time_budget = nSquaredTimeWithMax(maxtime=10 * 60.0, mintime=10.0)\n",
    "heuristique = heurWrapper(time_budget_fun=time_budget)\n",
    "\n",
    "cutting_planes = completeModelWrapper(plans_coupants, time_budget=2 * 60.0);\n",
    "\n",
    "b_and_c = completeModelWrapper(branch_and_cut, time_budget=2 * 60.0);"
   ]
  },
  {
   "cell_type": "code",
   "execution_count": null,
   "metadata": {},
   "outputs": [],
   "source": [
    "statique_file = joinpath(\"demo_data\", \"results\", \"statique.json\")\n",
    "\n",
    "dual_file = joinpath(\"demo_data\", \"results\", \"dual.json\")\n",
    "\n",
    "heuristique_file = joinpath(\"demo_data\", \"results\", \"heuristique.json\")\n",
    "\n",
    "cutting_plane_file = joinpath(\"demo_data\", \"results\", \"cutting_plane.json\")\n",
    "\n",
    "branch_and_cut_file = joinpath(\"demo_data\", \"results\", \"branch_and_cut.json\")\n",
    "\n",
    "instance_dir = joinpath(\"demo_data\", \"instances\");"
   ]
  },
  {
   "cell_type": "markdown",
   "metadata": {},
   "source": [
    "Tests des différentes méthodes :"
   ]
  },
  {
   "cell_type": "code",
   "execution_count": null,
   "metadata": {},
   "outputs": [],
   "source": [
    "testMethod(\n",
    "    method=dual;\n",
    "    method_name=\"Dualisation\",\n",
    "    save=dual_file,\n",
    "    instance_dir=instance_dir,\n",
    ")"
   ]
  },
  {
   "cell_type": "code",
   "execution_count": null,
   "metadata": {},
   "outputs": [],
   "source": [
    "testMethod(\n",
    "    method=heuristique;\n",
    "    method_name=\"Heuristique\",\n",
    "    save=heuristique_file,\n",
    "    instance_dir=instance_dir,\n",
    ")"
   ]
  },
  {
   "cell_type": "code",
   "execution_count": null,
   "metadata": {},
   "outputs": [],
   "source": [
    "testMethod(\n",
    "    method=cutting_planes;\n",
    "    method_name=\"Plans coupants\",\n",
    "    save=cutting_plane_file,\n",
    "    instance_dir=instance_dir,\n",
    ")"
   ]
  },
  {
   "cell_type": "code",
   "execution_count": null,
   "metadata": {},
   "outputs": [],
   "source": [
    "testMethod(\n",
    "    method=b_and_c;\n",
    "    method_name=\"Branch & Cut\",\n",
    "    save=branch_and_cut_file,\n",
    "    instance_dir=instance_dir,\n",
    ")"
   ]
  },
  {
   "cell_type": "code",
   "execution_count": null,
   "metadata": {},
   "outputs": [],
   "source": [
    "testMethod(\n",
    "    method=statique;\n",
    "    method_name=\"Statique\",\n",
    "    save=statique_file,\n",
    "    instance_dir=instance_dir,\n",
    ")"
   ]
  },
  {
   "cell_type": "markdown",
   "metadata": {},
   "source": [
    "Exploitation des tests (tableau de résultats, diagramme de performance, solutions + valeurs) :"
   ]
  },
  {
   "cell_type": "code",
   "execution_count": null,
   "metadata": {},
   "outputs": [],
   "source": [
    "res_files = [\n",
    "    statique_file,\n",
    "    dual_file,\n",
    "    heuristique_file,\n",
    "    cutting_plane_file,\n",
    "    branch_and_cut_file,\n",
    "];"
   ]
  },
  {
   "cell_type": "code",
   "execution_count": null,
   "metadata": {},
   "outputs": [],
   "source": [
    "processed = processResultsForTable(\n",
    "    res_files;\n",
    "    not_robust_method=\"Statique\",\n",
    ")\n",
    "output_file = joinpath(\"demo_out\", \"demo_table.tex\")\n",
    "\n",
    "open(\n",
    "    fd -> writeTable(\n",
    "        [\"Dualisation\", \"Plans coupants\", \"Branch & Cut\", \"Heuristique\"];\n",
    "        results=processed,\n",
    "        template_file=joinpath(\"template\", \"table.tex\"),\n",
    "        output=fd,\n",
    "    ),\n",
    "    output_file,\n",
    "    write=true,\n",
    ")"
   ]
  },
  {
   "cell_type": "code",
   "execution_count": null,
   "metadata": {},
   "outputs": [],
   "source": [
    "graphic_file = joinpath(\"demo_out\", \"demo_perf_diag.png\")\n",
    "graphic_results = processResultsForPerfDiag(\n",
    "    res_files;\n",
    "    not_robust_method=\"Statique\",\n",
    ")\n",
    "savePerfDiag(\n",
    "    graphic_results;\n",
    "    until=300.0,\n",
    "    output=graphic_file,\n",
    ")"
   ]
  },
  {
   "cell_type": "code",
   "execution_count": null,
   "metadata": {},
   "outputs": [],
   "source": [
    "sols_file = joinpath(\"demo_out\", \"demo_solutions.tex\")\n",
    "sols_res = processResultsForSolutions(\n",
    "    res_files;\n",
    "    not_robust_method=\"Statique\",\n",
    ")\n",
    "open(\n",
    "    fd -> writeSolutions(\n",
    "        sols_res;\n",
    "        template_file=joinpath(\"template\", \"solutions.tex\"),\n",
    "        output=fd,\n",
    "    ),\n",
    "    sols_file,\n",
    "    write=true,\n",
    ")"
   ]
  }
 ],
 "metadata": {
  "kernelspec": {
   "display_name": "Julia 1.7.2",
   "language": "julia",
   "name": "julia-1.7"
  },
  "language_info": {
   "file_extension": ".jl",
   "mimetype": "application/julia",
   "name": "julia",
   "version": "1.7.2"
  }
 },
 "nbformat": 4,
 "nbformat_minor": 2
}
